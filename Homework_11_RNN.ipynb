{
  "cells": [
    {
      "cell_type": "code",
      "execution_count": 29,
      "metadata": {
        "id": "TlVrAdZdku1W"
      },
      "outputs": [],
      "source": [
        "import tensorflow as tf\n",
        "from tensorflow.keras.datasets import imdb\n",
        "from tensorflow.keras.preprocessing.sequence import pad_sequences\n",
        "from tensorflow.keras.models import Sequential\n",
        "from tensorflow.keras.layers import Embedding, SimpleRNN, Dense, LSTM, Bidirectional"
      ]
    },
    {
      "cell_type": "code",
      "source": [
        "max_features = 1000\n",
        "max_len = 500"
      ],
      "metadata": {
        "id": "2BQ6RbKhm5YH"
      },
      "execution_count": 30,
      "outputs": []
    },
    {
      "cell_type": "code",
      "source": [
        "(x_train, y_train), (x_test, y_test) = imdb.load_data(num_words=max_features)\n",
        "x_train = pad_sequences(x_train, maxlen=max_len)\n",
        "x_test = pad_sequences(x_test, maxlen=max_len)"
      ],
      "metadata": {
        "id": "U0jMZJfim9Kb"
      },
      "execution_count": 31,
      "outputs": []
    },
    {
      "cell_type": "code",
      "source": [
        "#RNN\n",
        "model_RNN = Sequential()\n",
        "model_RNN.add(Embedding(max_features, 64, input_length=max_len))\n",
        "model_RNN.add(SimpleRNN(64, return_sequences=False))\n",
        "model_RNN.add(Dense(1, activation='sigmoid'))\n",
        "\n",
        "model_RNN.compile(optimizer='adam', loss='binary_crossentropy', metrics=['accuracy'])\n",
        "\n",
        "history_RNN = model_RNN.fit(x_train, y_train, epochs=5, batch_size=64, validation_split=0.2)\n",
        "\n",
        "test_loss, test_acc = model_RNN.evaluate(x_test, y_test)\n",
        "print('Test Loss: {}'.format(test_loss))\n",
        "print('Test Accuracy: {}'.format(test_acc))"
      ],
      "metadata": {
        "id": "JHzw1e1znaBq",
        "colab": {
          "base_uri": "https://localhost:8080/"
        },
        "outputId": "76526f34-57d1-4bc4-a0b3-386add2a2c87"
      },
      "execution_count": 32,
      "outputs": [
        {
          "output_type": "stream",
          "name": "stdout",
          "text": [
            "Epoch 1/5\n",
            "313/313 [==============================] - 151s 477ms/step - loss: 0.5605 - accuracy: 0.7052 - val_loss: 0.4510 - val_accuracy: 0.7962\n",
            "Epoch 2/5\n",
            "313/313 [==============================] - 143s 455ms/step - loss: 0.4571 - accuracy: 0.7968 - val_loss: 0.4456 - val_accuracy: 0.8084\n",
            "Epoch 3/5\n",
            "313/313 [==============================] - 139s 445ms/step - loss: 0.5523 - accuracy: 0.7085 - val_loss: 0.6535 - val_accuracy: 0.6094\n",
            "Epoch 4/5\n",
            "313/313 [==============================] - 143s 456ms/step - loss: 0.6685 - accuracy: 0.6164 - val_loss: 0.6643 - val_accuracy: 0.5898\n",
            "Epoch 5/5\n",
            "313/313 [==============================] - 142s 453ms/step - loss: 0.6434 - accuracy: 0.6166 - val_loss: 0.6356 - val_accuracy: 0.6212\n",
            "782/782 [==============================] - 32s 41ms/step - loss: 0.6351 - accuracy: 0.6166\n",
            "Test Loss: 0.6351443529129028\n",
            "Test Accuracy: 0.6166399717330933\n"
          ]
        }
      ]
    },
    {
      "cell_type": "code",
      "source": [
        "# LSTM\n",
        "model_LSTM = Sequential()\n",
        "model_LSTM.add(Embedding(max_features, 64, input_length=max_len))\n",
        "model_LSTM.add(LSTM(64, return_sequences=False))\n",
        "model_LSTM.add(Dense(1, activation='sigmoid'))\n",
        "\n",
        "model_LSTM.compile(optimizer='adam', loss='binary_crossentropy', metrics=['accuracy'])\n",
        "\n",
        "history_LSTM = model_LSTM.fit(x_train, y_train, epochs=5, batch_size=64, validation_split=0.2)\n",
        "\n",
        "test_loss, test_acc = model_LSTM.evaluate(x_test, y_test)\n",
        "print('Test Loss: {}'.format(test_loss))\n",
        "print('Test Accuracy: {}'.format(test_acc))"
      ],
      "metadata": {
        "id": "N9-tgCqloe9Z",
        "colab": {
          "base_uri": "https://localhost:8080/"
        },
        "outputId": "694676bf-b70e-4568-c166-c0419d54c1e2"
      },
      "execution_count": 33,
      "outputs": [
        {
          "output_type": "stream",
          "name": "stdout",
          "text": [
            "Epoch 1/5\n",
            "313/313 [==============================] - 16s 45ms/step - loss: 0.5238 - accuracy: 0.7331 - val_loss: 0.6357 - val_accuracy: 0.6266\n",
            "Epoch 2/5\n",
            "313/313 [==============================] - 7s 24ms/step - loss: 0.4699 - accuracy: 0.7741 - val_loss: 0.3878 - val_accuracy: 0.8388\n",
            "Epoch 3/5\n",
            "313/313 [==============================] - 7s 23ms/step - loss: 0.3572 - accuracy: 0.8498 - val_loss: 0.3689 - val_accuracy: 0.8434\n",
            "Epoch 4/5\n",
            "313/313 [==============================] - 7s 22ms/step - loss: 0.3395 - accuracy: 0.8574 - val_loss: 0.3832 - val_accuracy: 0.8376\n",
            "Epoch 5/5\n",
            "313/313 [==============================] - 7s 23ms/step - loss: 0.3156 - accuracy: 0.8705 - val_loss: 0.4070 - val_accuracy: 0.8420\n",
            "782/782 [==============================] - 7s 9ms/step - loss: 0.3847 - accuracy: 0.8457\n",
            "Test Loss: 0.38474127650260925\n",
            "Test Accuracy: 0.8457199931144714\n"
          ]
        }
      ]
    },
    {
      "cell_type": "code",
      "source": [
        "# Bilateral LSTM\n",
        "model_BLSTM = Sequential()\n",
        "model_BLSTM.add(Embedding(max_features, 64, input_length=max_len))\n",
        "model_BLSTM.add(Bidirectional(LSTM(64, return_sequences=False)))\n",
        "model_BLSTM.add(Dense(1, activation='sigmoid'))\n",
        "\n",
        "model_BLSTM.compile(optimizer='adam', loss='binary_crossentropy', metrics=['accuracy'])\n",
        "\n",
        "history = model_BLSTM.fit(x_train, y_train, epochs=5, batch_size=64, validation_split=0.2)\n",
        "\n",
        "test_loss, test_acc = model_BLSTM.evaluate(x_test, y_test)\n",
        "print('Test Loss: {}'.format(test_loss))\n",
        "print('Test Accuracy: {}'.format(test_acc))"
      ],
      "metadata": {
        "colab": {
          "base_uri": "https://localhost:8080/"
        },
        "id": "Yp0hTGcgtL--",
        "outputId": "07c4d532-5910-4bc3-a000-c7144f9fa515"
      },
      "execution_count": 34,
      "outputs": [
        {
          "output_type": "stream",
          "name": "stdout",
          "text": [
            "Epoch 1/5\n",
            "313/313 [==============================] - 23s 62ms/step - loss: 0.5138 - accuracy: 0.7375 - val_loss: 0.3674 - val_accuracy: 0.8432\n",
            "Epoch 2/5\n",
            "313/313 [==============================] - 13s 41ms/step - loss: 0.3662 - accuracy: 0.8429 - val_loss: 0.3568 - val_accuracy: 0.8494\n",
            "Epoch 3/5\n",
            "313/313 [==============================] - 12s 38ms/step - loss: 0.3722 - accuracy: 0.8392 - val_loss: 0.3760 - val_accuracy: 0.8380\n",
            "Epoch 4/5\n",
            "313/313 [==============================] - 12s 40ms/step - loss: 0.3237 - accuracy: 0.8662 - val_loss: 0.3710 - val_accuracy: 0.8392\n",
            "Epoch 5/5\n",
            "313/313 [==============================] - 13s 42ms/step - loss: 0.3074 - accuracy: 0.8712 - val_loss: 0.3441 - val_accuracy: 0.8484\n",
            "782/782 [==============================] - 12s 16ms/step - loss: 0.3316 - accuracy: 0.8567\n",
            "Test Loss: 0.33157679438591003\n",
            "Test Accuracy: 0.8566799759864807\n"
          ]
        }
      ]
    },
    {
      "cell_type": "code",
      "source": [
        "# DeeP RNN\n",
        "\n",
        "model_deep = Sequential()\n",
        "model_deep.add(Embedding(max_features, 64, input_length=max_len))\n",
        "model_deep.add(LSTM(64, return_sequences=True))\n",
        "model_deep.add(LSTM(64, return_sequences=True))\n",
        "model_deep.add(LSTM(64, return_sequences=False))\n",
        "model_deep.add(Dense(1, activation='sigmoid'))\n",
        "\n",
        "model_deep.compile(optimizer='adam', loss='binary_crossentropy', metrics=['accuracy'])\n",
        "\n",
        "history = model_deep.fit(x_train, y_train, epochs=5, batch_size=64, validation_split=0.2)\n",
        "\n",
        "test_loss, test_acc = model_deep.evaluate(x_test, y_test)\n",
        "print('Test Loss: {}'.format(test_loss))\n",
        "print('Test Accuracy: {}'.format(test_acc))"
      ],
      "metadata": {
        "colab": {
          "base_uri": "https://localhost:8080/"
        },
        "id": "bQ4DmFU6t29s",
        "outputId": "bef62bdf-053a-4d1d-c5e8-91d54a87a3d1"
      },
      "execution_count": 36,
      "outputs": [
        {
          "output_type": "stream",
          "name": "stdout",
          "text": [
            "Epoch 1/5\n",
            "313/313 [==============================] - 28s 75ms/step - loss: 0.4994 - accuracy: 0.7539 - val_loss: 0.4361 - val_accuracy: 0.8068\n",
            "Epoch 2/5\n",
            "313/313 [==============================] - 18s 58ms/step - loss: 0.3685 - accuracy: 0.8440 - val_loss: 0.3469 - val_accuracy: 0.8580\n",
            "Epoch 3/5\n",
            "313/313 [==============================] - 17s 55ms/step - loss: 0.3371 - accuracy: 0.8598 - val_loss: 0.3512 - val_accuracy: 0.8494\n",
            "Epoch 4/5\n",
            "313/313 [==============================] - 17s 55ms/step - loss: 0.3231 - accuracy: 0.8663 - val_loss: 0.4265 - val_accuracy: 0.7926\n",
            "Epoch 5/5\n",
            "313/313 [==============================] - 17s 55ms/step - loss: 0.3172 - accuracy: 0.8697 - val_loss: 0.3381 - val_accuracy: 0.8552\n",
            "782/782 [==============================] - 16s 21ms/step - loss: 0.3256 - accuracy: 0.8648\n",
            "Test Loss: 0.3255855441093445\n",
            "Test Accuracy: 0.864799976348877\n"
          ]
        }
      ]
    },
    {
      "cell_type": "markdown",
      "source": [],
      "metadata": {
        "id": "AVW4qPxH5Qp9"
      }
    },
    {
      "cell_type": "code",
      "source": [],
      "metadata": {
        "id": "uPOS4-JIzt75"
      },
      "execution_count": null,
      "outputs": []
    }
  ],
  "metadata": {
    "colab": {
      "provenance": [],
      "gpuType": "T4"
    },
    "kernelspec": {
      "display_name": "Python 3",
      "name": "python3"
    },
    "language_info": {
      "name": "python"
    },
    "accelerator": "GPU"
  },
  "nbformat": 4,
  "nbformat_minor": 0
}