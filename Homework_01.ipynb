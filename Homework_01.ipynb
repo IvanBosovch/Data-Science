{
 "cells": [
  {
   "cell_type": "code",
   "execution_count": 9,
   "metadata": {},
   "outputs": [
    {
     "name": "stdout",
     "output_type": "stream",
     "text": [
      "[ 1  2  3  4  5  6  7  8  9 10]\n"
     ]
    }
   ],
   "source": [
    "# 1\n",
    "import numpy as np\n",
    "a = np.arange(1, 11)\n",
    "print(a)"
   ]
  },
  {
   "cell_type": "code",
   "execution_count": 6,
   "metadata": {},
   "outputs": [
    {
     "name": "stdout",
     "output_type": "stream",
     "text": [
      "[[0. 0. 0.]\n",
      " [0. 0. 0.]\n",
      " [0. 0. 0.]]\n"
     ]
    }
   ],
   "source": [
    "# 2\n",
    "\n",
    "m = np.zeros((3, 3), dtype=float) \n",
    "print(m)"
   ]
  },
  {
   "cell_type": "code",
   "execution_count": 12,
   "metadata": {},
   "outputs": [
    {
     "name": "stdout",
     "output_type": "stream",
     "text": [
      "[[ 4  9  5  5  6]\n",
      " [ 1  2 10  9  8]\n",
      " [ 8  2  3  7  3]\n",
      " [ 8  3  2  7  6]\n",
      " [ 6  1  5  9  1]]\n"
     ]
    }
   ],
   "source": [
    "# 3\n",
    "\n",
    "b = np.random.randint(1, 11, size=(5, 5))\n",
    "print(b)"
   ]
  },
  {
   "cell_type": "code",
   "execution_count": 14,
   "metadata": {},
   "outputs": [
    {
     "name": "stdout",
     "output_type": "stream",
     "text": [
      "[[0.7449654  0.77901642 0.37124641 0.26185894]\n",
      " [0.86568015 0.02056243 0.51409752 0.94477572]\n",
      " [0.82958547 0.42687845 0.8267532  0.46051314]\n",
      " [0.3642041  0.12934594 0.07747686 0.87870524]]\n"
     ]
    }
   ],
   "source": [
    "# 4\n",
    "\n",
    "b = np.random.random((4, 4))\n",
    "print(b)"
   ]
  },
  {
   "cell_type": "code",
   "execution_count": 20,
   "metadata": {},
   "outputs": [
    {
     "name": "stdout",
     "output_type": "stream",
     "text": [
      "[ 9  4  5 12  5]\n",
      "[-5  0  1  2 -1]\n",
      "[14  4  6 35  6]\n"
     ]
    }
   ],
   "source": [
    "# 5\n",
    "\n",
    "a = np.random.randint(1, 10, size=5)\n",
    "b = np.random.randint(1, 10, size=5)\n",
    "print(a + b)\n",
    "print(a - b)\n",
    "print(a * b)"
   ]
  },
  {
   "cell_type": "code",
   "execution_count": 22,
   "metadata": {},
   "outputs": [
    {
     "name": "stdout",
     "output_type": "stream",
     "text": [
      "288\n"
     ]
    }
   ],
   "source": [
    "# 6\n",
    "\n",
    "a = np.random.randint(1, 10, size=7)\n",
    "b = np.random.randint(1, 10, size=7)\n",
    "print(np.dot(a, b))\n"
   ]
  },
  {
   "cell_type": "code",
   "execution_count": 25,
   "metadata": {},
   "outputs": [
    {
     "name": "stdout",
     "output_type": "stream",
     "text": [
      "[[50 22 40]\n",
      " [50 28 25]]\n"
     ]
    }
   ],
   "source": [
    "# 7\n",
    "\n",
    "a = np.random.randint(1, 11, size=(2, 2))\n",
    "b = np.random.randint(1, 11, size=(2, 3))\n",
    "c = np.dot(a, b)\n",
    "print(c)"
   ]
  },
  {
   "cell_type": "code",
   "execution_count": 27,
   "metadata": {},
   "outputs": [
    {
     "name": "stdout",
     "output_type": "stream",
     "text": [
      "[[-3.33333333e-01 -7.14285714e-01  9.28571429e-01]\n",
      " [-6.34413157e-17  4.28571429e-01 -3.57142857e-01]\n",
      " [ 3.33333333e-01  1.42857143e-01 -2.85714286e-01]]\n"
     ]
    }
   ],
   "source": [
    "# 8\n",
    "\n",
    "a = np.random.randint(1, 10, size=(3, 3))\n",
    "a_inv = np.linalg.inv(a)\n",
    "print(a_inv)"
   ]
  },
  {
   "cell_type": "code",
   "execution_count": 35,
   "metadata": {},
   "outputs": [
    {
     "name": "stdout",
     "output_type": "stream",
     "text": [
      "[[0.90622109 0.02894503 0.96641544 0.29324625]\n",
      " [0.89202752 0.52975403 0.89000297 0.42117826]\n",
      " [0.34167389 0.6085377  0.1423913  0.20276764]\n",
      " [0.41101448 0.49157548 0.84532309 0.24598245]]\n"
     ]
    }
   ],
   "source": [
    "# 9\n",
    "\n",
    "a = np.random.random((4, 4))\n",
    "b = a.T\n",
    "print(b)"
   ]
  },
  {
   "cell_type": "code",
   "execution_count": 37,
   "metadata": {},
   "outputs": [
    {
     "name": "stdout",
     "output_type": "stream",
     "text": [
      "[[ 4 18 63  7]\n",
      " [28 14 28 28]\n",
      " [ 8 18 28 21]]\n"
     ]
    }
   ],
   "source": [
    "# 10\n",
    "\n",
    "m = np.random.randint(1, 10, size=(3, 4))\n",
    "v = np.random.randint(1, 10, size=4)\n",
    "c = m * v\n",
    "print(c)"
   ]
  },
  {
   "cell_type": "code",
   "execution_count": 40,
   "metadata": {},
   "outputs": [
    {
     "name": "stdout",
     "output_type": "stream",
     "text": [
      "[[0.14693869 0.20885938 0.01074047]\n",
      " [0.02890867 0.21555249 0.00350357]]\n"
     ]
    }
   ],
   "source": [
    "# 11\n",
    "\n",
    "m = np.random.random((2, 3))\n",
    "v = np.random.random(3)\n",
    "c = m * v\n",
    "print(c)"
   ]
  },
  {
   "cell_type": "code",
   "execution_count": 41,
   "metadata": {},
   "outputs": [
    {
     "name": "stdout",
     "output_type": "stream",
     "text": [
      "[[20  6]\n",
      " [ 3  7]]\n"
     ]
    }
   ],
   "source": [
    "# 12\n",
    "\n",
    "m1 = np.random.randint(1, 10, size=(2, 2))\n",
    "m2 = np.random.randint(1, 10, size=(2, 2))\n",
    "c = m1 * m2\n",
    "print(c)"
   ]
  },
  {
   "cell_type": "code",
   "execution_count": 42,
   "metadata": {},
   "outputs": [
    {
     "name": "stdout",
     "output_type": "stream",
     "text": [
      "[[16  9]\n",
      " [15  9]]\n"
     ]
    }
   ],
   "source": [
    "# 13\n",
    "\n",
    "m1 = np.random.randint(1, 10, size=(2, 2))\n",
    "m2 = np.random.randint(1, 10, size=(2, 2))\n",
    "c = m1 + m2\n",
    "print(c)"
   ]
  },
  {
   "cell_type": "code",
   "execution_count": 45,
   "metadata": {},
   "outputs": [
    {
     "name": "stdout",
     "output_type": "stream",
     "text": [
      "1279\n"
     ]
    }
   ],
   "source": [
    "# 14\n",
    "\n",
    "m = np.random.randint(1, 100, size=(5, 5))\n",
    "print(m.sum())"
   ]
  },
  {
   "cell_type": "code",
   "execution_count": 46,
   "metadata": {},
   "outputs": [
    {
     "name": "stdout",
     "output_type": "stream",
     "text": [
      "[[ 2  3 -4  0]\n",
      " [-4 -8  2  7]\n",
      " [ 1 -2 -2  5]\n",
      " [-4 -3 -1 -5]]\n"
     ]
    }
   ],
   "source": [
    "# 15\n",
    "\n",
    "m1 = np.random.randint(1, 10, size=(4, 4))\n",
    "m2 = np.random.randint(1, 10, size=(4, 4))\n",
    "c = m1 - m2\n",
    "print(c)"
   ]
  },
  {
   "cell_type": "code",
   "execution_count": 54,
   "metadata": {},
   "outputs": [
    {
     "name": "stdout",
     "output_type": "stream",
     "text": [
      "1.5579474354335556\n",
      "0.49460583804749125\n",
      "1.3234263770026828\n"
     ]
    }
   ],
   "source": [
    "# 16\n",
    "\n",
    "m = np.random.random((3, 3))\n",
    "print(m[0].sum())\n",
    "print(m[1].sum())\n",
    "print(m[2].sum())"
   ]
  },
  {
   "cell_type": "code",
   "execution_count": 66,
   "metadata": {},
   "outputs": [
    {
     "name": "stdout",
     "output_type": "stream",
     "text": [
      "[[ 4 16  4 64]\n",
      " [ 9  9 16 25]\n",
      " [ 9  4 64 25]]\n"
     ]
    }
   ],
   "source": [
    "# 17\n",
    "\n",
    "m = np.array(([2, 4, 2, 8], [3, 3, 4, 5], [3, 2, 8, 5]))\n",
    "sq = np.square(m)\n",
    "print(sq)"
   ]
  },
  {
   "cell_type": "code",
   "execution_count": 67,
   "metadata": {},
   "outputs": [
    {
     "name": "stdout",
     "output_type": "stream",
     "text": [
      "[ 4  9 16 25]\n"
     ]
    }
   ],
   "source": [
    "# 18\n",
    "\n",
    "v = np.array([2, 3, 4, 5])\n",
    "sq = np.square(v)\n",
    "print(sq)"
   ]
  },
  {
   "cell_type": "code",
   "execution_count": null,
   "metadata": {},
   "outputs": [],
   "source": []
  }
 ],
 "metadata": {
  "kernelspec": {
   "display_name": "Python 3",
   "language": "python",
   "name": "python3"
  },
  "language_info": {
   "codemirror_mode": {
    "name": "ipython",
    "version": 3
   },
   "file_extension": ".py",
   "mimetype": "text/x-python",
   "name": "python",
   "nbconvert_exporter": "python",
   "pygments_lexer": "ipython3",
   "version": "3.8.5"
  },
  "widgets": {
   "application/vnd.jupyter.widget-state+json": {
    "state": {},
    "version_major": 2,
    "version_minor": 0
   }
  }
 },
 "nbformat": 4,
 "nbformat_minor": 4
}
