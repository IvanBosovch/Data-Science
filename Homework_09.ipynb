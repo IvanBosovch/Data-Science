{
  "nbformat": 4,
  "nbformat_minor": 0,
  "metadata": {
    "colab": {
      "provenance": []
    },
    "kernelspec": {
      "name": "python3",
      "display_name": "Python 3"
    },
    "language_info": {
      "name": "python"
    }
  },
  "cells": [
    {
      "cell_type": "code",
      "execution_count": 20,
      "metadata": {
        "id": "fsSZZuP9172k"
      },
      "outputs": [],
      "source": [
        "import numpy as np\n",
        "import matplotlib.pyplot as plt\n",
        "import tensorflow as tf\n",
        "from tensorflow.keras import datasets, layers, models"
      ]
    },
    {
      "cell_type": "code",
      "source": [
        "(train_images, train_labels), (test_images, test_labels) = datasets.fashion_mnist.load_data()\n",
        "train_images, test_images = train_images / 255.0, test_images / 255.0\n",
        "\n",
        "# Розширення розмірності зображень для Conv2D\n",
        "train_images = np.expand_dims(train_images, axis=-1)\n",
        "test_images = np.expand_dims(test_images, axis=-1)"
      ],
      "metadata": {
        "id": "ila_ci8X7eI2"
      },
      "execution_count": 21,
      "outputs": []
    },
    {
      "cell_type": "code",
      "source": [
        "model = models.Sequential([\n",
        "    layers.Conv2D(32, (3, 3), activation='relu', input_shape=(28, 28, 1)),\n",
        "    layers.MaxPooling2D((2, 2)),\n",
        "    layers.Conv2D(64, (3, 3), activation='relu'),\n",
        "    layers.MaxPooling2D((2, 2)),\n",
        "    layers.Conv2D(64, (3, 3), activation='relu'),\n",
        "    layers.Flatten(),\n",
        "    layers.Dense(128, activation='relu'),\n",
        "    layers.Dropout(0.5),\n",
        "    layers.Dense(10)\n",
        "])"
      ],
      "metadata": {
        "id": "9_FoFY277mnZ"
      },
      "execution_count": 22,
      "outputs": []
    },
    {
      "cell_type": "code",
      "source": [
        "#optimizer = tf.keras.optimizers.SGD(learning_rate=0.01, momentum=0.9, nesterov=True)\n",
        "model.compile(optimizer='adam',\n",
        "              # loss='sparse_categorical_crossentropy',\n",
        "              loss=tf.keras.losses.SparseCategoricalCrossentropy(from_logits=True),\n",
        "              metrics=['accuracy'])"
      ],
      "metadata": {
        "id": "O2A43LtO7sZS"
      },
      "execution_count": 23,
      "outputs": []
    },
    {
      "cell_type": "code",
      "source": [
        "model.fit(train_images, train_labels, epochs=20,\n",
        "          validation_data=(test_images, test_labels))"
      ],
      "metadata": {
        "colab": {
          "base_uri": "https://localhost:8080/"
        },
        "id": "gz2T3w2J_kl8",
        "outputId": "5b2203fc-bb69-4f63-aa5f-aa2eebe6dd31"
      },
      "execution_count": 24,
      "outputs": [
        {
          "output_type": "stream",
          "name": "stdout",
          "text": [
            "Epoch 1/20\n",
            "1875/1875 [==============================] - 62s 31ms/step - loss: 0.5757 - accuracy: 0.7891 - val_loss: 0.3796 - val_accuracy: 0.8611\n",
            "Epoch 2/20\n",
            "1875/1875 [==============================] - 57s 31ms/step - loss: 0.3623 - accuracy: 0.8705 - val_loss: 0.3096 - val_accuracy: 0.8871\n",
            "Epoch 3/20\n",
            "1875/1875 [==============================] - 54s 29ms/step - loss: 0.3091 - accuracy: 0.8894 - val_loss: 0.3261 - val_accuracy: 0.8814\n",
            "Epoch 4/20\n",
            "1875/1875 [==============================] - 54s 29ms/step - loss: 0.2786 - accuracy: 0.8992 - val_loss: 0.3022 - val_accuracy: 0.8931\n",
            "Epoch 5/20\n",
            "1875/1875 [==============================] - 54s 29ms/step - loss: 0.2555 - accuracy: 0.9085 - val_loss: 0.2732 - val_accuracy: 0.9036\n",
            "Epoch 6/20\n",
            "1875/1875 [==============================] - 54s 29ms/step - loss: 0.2376 - accuracy: 0.9150 - val_loss: 0.2619 - val_accuracy: 0.9030\n",
            "Epoch 7/20\n",
            "1875/1875 [==============================] - 54s 29ms/step - loss: 0.2204 - accuracy: 0.9201 - val_loss: 0.2666 - val_accuracy: 0.9080\n",
            "Epoch 8/20\n",
            "1875/1875 [==============================] - 55s 29ms/step - loss: 0.2089 - accuracy: 0.9237 - val_loss: 0.2703 - val_accuracy: 0.9095\n",
            "Epoch 9/20\n",
            "1875/1875 [==============================] - 54s 29ms/step - loss: 0.1948 - accuracy: 0.9281 - val_loss: 0.2576 - val_accuracy: 0.9106\n",
            "Epoch 10/20\n",
            "1875/1875 [==============================] - 54s 29ms/step - loss: 0.1835 - accuracy: 0.9324 - val_loss: 0.2743 - val_accuracy: 0.9089\n",
            "Epoch 11/20\n",
            "1875/1875 [==============================] - 54s 29ms/step - loss: 0.1730 - accuracy: 0.9358 - val_loss: 0.2724 - val_accuracy: 0.9093\n",
            "Epoch 12/20\n",
            "1875/1875 [==============================] - 54s 29ms/step - loss: 0.1653 - accuracy: 0.9380 - val_loss: 0.2854 - val_accuracy: 0.9075\n",
            "Epoch 13/20\n",
            "1875/1875 [==============================] - 54s 29ms/step - loss: 0.1590 - accuracy: 0.9407 - val_loss: 0.2689 - val_accuracy: 0.9143\n",
            "Epoch 14/20\n",
            "1875/1875 [==============================] - 54s 29ms/step - loss: 0.1477 - accuracy: 0.9442 - val_loss: 0.2962 - val_accuracy: 0.9145\n",
            "Epoch 15/20\n",
            "1875/1875 [==============================] - 53s 28ms/step - loss: 0.1452 - accuracy: 0.9461 - val_loss: 0.2838 - val_accuracy: 0.9137\n",
            "Epoch 16/20\n",
            "1875/1875 [==============================] - 53s 28ms/step - loss: 0.1362 - accuracy: 0.9479 - val_loss: 0.3196 - val_accuracy: 0.9120\n",
            "Epoch 17/20\n",
            "1875/1875 [==============================] - 53s 28ms/step - loss: 0.1322 - accuracy: 0.9498 - val_loss: 0.3187 - val_accuracy: 0.9091\n",
            "Epoch 18/20\n",
            "1875/1875 [==============================] - 54s 29ms/step - loss: 0.1246 - accuracy: 0.9530 - val_loss: 0.3329 - val_accuracy: 0.9097\n",
            "Epoch 19/20\n",
            "1875/1875 [==============================] - 54s 29ms/step - loss: 0.1214 - accuracy: 0.9535 - val_loss: 0.3360 - val_accuracy: 0.9083\n",
            "Epoch 20/20\n",
            "1875/1875 [==============================] - 53s 28ms/step - loss: 0.1173 - accuracy: 0.9538 - val_loss: 0.3601 - val_accuracy: 0.9130\n"
          ]
        },
        {
          "output_type": "execute_result",
          "data": {
            "text/plain": [
              "<keras.src.callbacks.History at 0x792861c3b2b0>"
            ]
          },
          "metadata": {},
          "execution_count": 24
        }
      ]
    },
    {
      "cell_type": "code",
      "source": [
        "test_loss, test_accuracy = model.evaluate(test_images, test_labels, verbose=2)\n",
        "print('\\nTest accuracy:', test_accuracy)"
      ],
      "metadata": {
        "colab": {
          "base_uri": "https://localhost:8080/"
        },
        "id": "Gamkj57WATxj",
        "outputId": "cbd8905b-3ea1-4c76-85ff-8af91f684d93"
      },
      "execution_count": 19,
      "outputs": [
        {
          "output_type": "stream",
          "name": "stdout",
          "text": [
            "313/313 - 2s - loss: 0.3345 - accuracy: 0.9129 - 2s/epoch - 7ms/step\n",
            "\n",
            "Test accuracy: 0.9128999710083008\n"
          ]
        }
      ]
    },
    {
      "cell_type": "code",
      "source": [],
      "metadata": {
        "id": "m0Ave1luA-64"
      },
      "execution_count": null,
      "outputs": []
    }
  ]
}