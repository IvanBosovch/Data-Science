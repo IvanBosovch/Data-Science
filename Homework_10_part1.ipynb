{
  "nbformat": 4,
  "nbformat_minor": 0,
  "metadata": {
    "colab": {
      "provenance": []
    },
    "kernelspec": {
      "name": "python3",
      "display_name": "Python 3"
    },
    "language_info": {
      "name": "python"
    }
  },
  "cells": [
    {
      "cell_type": "code",
      "execution_count": 1,
      "metadata": {
        "id": "KPUoC_2nBjtO"
      },
      "outputs": [],
      "source": [
        "import numpy as np\n",
        "import matplotlib.pyplot as plt\n",
        "import tensorflow as tf\n",
        "from tensorflow.keras import datasets, layers, models"
      ]
    },
    {
      "cell_type": "code",
      "source": [
        "#Preparation data\n",
        "(train_images, train_labels), (test_images, test_labels) = datasets.fashion_mnist.load_data()\n",
        "train_images, test_images = train_images / 255.0, test_images / 255.0\n",
        "train_images = np.expand_dims(train_images, axis=-1)\n",
        "test_images = np.expand_dims(test_images, axis=-1)"
      ],
      "metadata": {
        "id": "vFWqSMyVBwab"
      },
      "execution_count": 56,
      "outputs": []
    },
    {
      "cell_type": "code",
      "source": [
        "#Create model\n",
        "model = models.Sequential([\n",
        "    layers.Conv2D(32, (3, 3), activation='relu', input_shape=(28, 28, 1)),\n",
        "    layers.BatchNormalization(),\n",
        "    layers.MaxPooling2D((2, 2)),\n",
        "    layers.Conv2D(64, (3, 3), activation='relu'),\n",
        "    layers.BatchNormalization(),\n",
        "    layers.MaxPooling2D((2, 2)),\n",
        "    layers.Conv2D(64, (3, 3), activation='relu'),\n",
        "    layers.BatchNormalization(),\n",
        "    layers.Flatten(),\n",
        "    layers.Dense(64, activation='relu'),\n",
        "    layers.Dropout(0.5),\n",
        "    layers.Dense(10)\n",
        "])"
      ],
      "metadata": {
        "id": "kad7d_O8B01G"
      },
      "execution_count": 57,
      "outputs": []
    },
    {
      "cell_type": "code",
      "source": [
        "#Compile model\n",
        "model.compile(optimizer=tf.keras.optimizers.Adam(learning_rate=0.001),\n",
        "              loss=tf.keras.losses.SparseCategoricalCrossentropy(from_logits=True),\n",
        "              metrics=['accuracy'])"
      ],
      "metadata": {
        "id": "2E0UAgQDCP0I"
      },
      "execution_count": 58,
      "outputs": []
    },
    {
      "cell_type": "code",
      "source": [
        "#Train model\n",
        "model.fit(train_images, train_labels, epochs=15,\n",
        "          validation_data=(test_images, test_labels),\n",
        "          batch_size=32)"
      ],
      "metadata": {
        "colab": {
          "base_uri": "https://localhost:8080/"
        },
        "id": "yz5HQF7aEgoP",
        "outputId": "f93bea0f-88ec-408d-fab1-b5813d3f5b67"
      },
      "execution_count": 59,
      "outputs": [
        {
          "output_type": "stream",
          "name": "stdout",
          "text": [
            "Epoch 1/15\n",
            "1875/1875 [==============================] - 89s 46ms/step - loss: 0.5319 - accuracy: 0.8139 - val_loss: 0.3852 - val_accuracy: 0.8584\n",
            "Epoch 2/15\n",
            "1875/1875 [==============================] - 87s 47ms/step - loss: 0.3573 - accuracy: 0.8731 - val_loss: 0.3102 - val_accuracy: 0.8867\n",
            "Epoch 3/15\n",
            "1875/1875 [==============================] - 88s 47ms/step - loss: 0.3155 - accuracy: 0.8882 - val_loss: 0.3223 - val_accuracy: 0.8817\n",
            "Epoch 4/15\n",
            "1875/1875 [==============================] - 86s 46ms/step - loss: 0.2868 - accuracy: 0.8985 - val_loss: 0.3200 - val_accuracy: 0.8784\n",
            "Epoch 5/15\n",
            "1875/1875 [==============================] - 86s 46ms/step - loss: 0.2657 - accuracy: 0.9039 - val_loss: 0.2654 - val_accuracy: 0.9018\n",
            "Epoch 6/15\n",
            "1875/1875 [==============================] - 90s 48ms/step - loss: 0.2498 - accuracy: 0.9104 - val_loss: 0.2859 - val_accuracy: 0.8960\n",
            "Epoch 7/15\n",
            "1875/1875 [==============================] - 88s 47ms/step - loss: 0.2303 - accuracy: 0.9173 - val_loss: 0.2946 - val_accuracy: 0.9001\n",
            "Epoch 8/15\n",
            "1875/1875 [==============================] - 86s 46ms/step - loss: 0.2208 - accuracy: 0.9209 - val_loss: 0.2617 - val_accuracy: 0.9106\n",
            "Epoch 9/15\n",
            "1875/1875 [==============================] - 85s 45ms/step - loss: 0.2102 - accuracy: 0.9233 - val_loss: 0.2814 - val_accuracy: 0.9003\n",
            "Epoch 10/15\n",
            "1875/1875 [==============================] - 82s 44ms/step - loss: 0.1907 - accuracy: 0.9308 - val_loss: 0.2603 - val_accuracy: 0.9140\n",
            "Epoch 11/15\n",
            "1875/1875 [==============================] - 85s 46ms/step - loss: 0.1846 - accuracy: 0.9337 - val_loss: 0.3333 - val_accuracy: 0.8943\n",
            "Epoch 12/15\n",
            "1875/1875 [==============================] - 84s 45ms/step - loss: 0.1756 - accuracy: 0.9356 - val_loss: 0.2966 - val_accuracy: 0.9026\n",
            "Epoch 13/15\n",
            "1875/1875 [==============================] - 84s 45ms/step - loss: 0.1697 - accuracy: 0.9377 - val_loss: 0.2995 - val_accuracy: 0.9070\n",
            "Epoch 14/15\n",
            "1875/1875 [==============================] - 83s 44ms/step - loss: 0.1586 - accuracy: 0.9413 - val_loss: 0.2812 - val_accuracy: 0.9155\n",
            "Epoch 15/15\n",
            "1875/1875 [==============================] - 83s 44ms/step - loss: 0.1515 - accuracy: 0.9432 - val_loss: 0.3038 - val_accuracy: 0.9151\n"
          ]
        },
        {
          "output_type": "execute_result",
          "data": {
            "text/plain": [
              "<keras.src.callbacks.History at 0x7fbab3bab370>"
            ]
          },
          "metadata": {},
          "execution_count": 59
        }
      ]
    },
    {
      "cell_type": "code",
      "source": [
        "test_loss, test_acc = model.evaluate(test_images, test_labels, verbose=2)\n",
        "print('\\nTest accuracy:', test_acc)"
      ],
      "metadata": {
        "colab": {
          "base_uri": "https://localhost:8080/"
        },
        "id": "hJcMMHTFEzNn",
        "outputId": "206714d2-a337-426a-cd8b-74442eda6336"
      },
      "execution_count": 60,
      "outputs": [
        {
          "output_type": "stream",
          "name": "stdout",
          "text": [
            "313/313 - 3s - loss: 0.3038 - accuracy: 0.9151 - 3s/epoch - 10ms/step\n",
            "\n",
            "Test accuracy: 0.9150999784469604\n"
          ]
        }
      ]
    },
    {
      "cell_type": "code",
      "source": [],
      "metadata": {
        "id": "sm5uur6eHa2T"
      },
      "execution_count": 39,
      "outputs": []
    }
  ]
}