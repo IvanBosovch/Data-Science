{
  "nbformat": 4,
  "nbformat_minor": 0,
  "metadata": {
    "colab": {
      "provenance": [],
      "gpuType": "T4"
    },
    "kernelspec": {
      "name": "python3",
      "display_name": "Python 3"
    },
    "language_info": {
      "name": "python"
    },
    "accelerator": "GPU"
  },
  "cells": [
    {
      "cell_type": "code",
      "execution_count": 3,
      "metadata": {
        "id": "EzdIcOcQR3Ke"
      },
      "outputs": [],
      "source": [
        "import numpy as np\n",
        "import matplotlib.pyplot as plt\n",
        "import tensorflow as tf\n",
        "from tensorflow.keras import datasets, layers, models, applications, regularizers, optimizers"
      ]
    },
    {
      "cell_type": "code",
      "source": [
        "#Preparation data\n",
        "(train_images, train_labels), (test_images, test_labels) = datasets.fashion_mnist.load_data()\n",
        "train_images, test_images = train_images / 255.0, test_images / 255.0"
      ],
      "metadata": {
        "id": "jqS52f2AS5BP"
      },
      "execution_count": 4,
      "outputs": []
    },
    {
      "cell_type": "code",
      "source": [
        "train_images = np.expand_dims(train_images, axis=-1)\n",
        "train_images = np.repeat(train_images, 3, axis=-1)\n",
        "train_images = tf.image.resize(train_images, [48, 48])  # Change size to 48x48\n",
        "\n",
        "test_images = np.expand_dims(test_images, axis=-1)\n",
        "test_images = np.repeat(test_images, 3, axis=-1)\n",
        "test_images = tf.image.resize(test_images, [48, 48])"
      ],
      "metadata": {
        "id": "HO-g2VOXfjfP"
      },
      "execution_count": 5,
      "outputs": []
    },
    {
      "cell_type": "code",
      "source": [
        "base_model = applications.VGG16(weights='imagenet', include_top=False, input_shape=(48, 48, 3))\n",
        "base_model.trainable = False"
      ],
      "metadata": {
        "id": "C7DKjaVNf2_o"
      },
      "execution_count": 6,
      "outputs": []
    },
    {
      "cell_type": "code",
      "source": [
        "#Create model\n",
        "model = models.Sequential([\n",
        "    base_model,\n",
        "    layers.Flatten(),\n",
        "    layers.Dense(256, activation='relu'),\n",
        "    layers.Dropout(0.5),\n",
        "    layers.Dense(10, activation='softmax')\n",
        "])"
      ],
      "metadata": {
        "id": "F11AkOlaf8ay"
      },
      "execution_count": 7,
      "outputs": []
    },
    {
      "cell_type": "code",
      "source": [
        "#Compile model\n",
        "model.compile(optimizer=optimizers.Adam(learning_rate=1e-4),\n",
        "              loss='sparse_categorical_crossentropy',\n",
        "              metrics=['accuracy'])"
      ],
      "metadata": {
        "id": "2TIpOnazgGE_"
      },
      "execution_count": 8,
      "outputs": []
    },
    {
      "cell_type": "code",
      "source": [
        "#Train model\n",
        "model.fit(train_images, train_labels, epochs=10,\n",
        "          validation_data=(test_images, test_labels),\n",
        "          batch_size=64)"
      ],
      "metadata": {
        "colab": {
          "base_uri": "https://localhost:8080/"
        },
        "id": "7mqgb2D4gGql",
        "outputId": "11e36946-73a5-46fa-a370-d456be575904"
      },
      "execution_count": 9,
      "outputs": [
        {
          "output_type": "stream",
          "name": "stdout",
          "text": [
            "Epoch 1/10\n",
            "938/938 [==============================] - 28s 25ms/step - loss: 1.0667 - accuracy: 0.6510 - val_loss: 0.6194 - val_accuracy: 0.7939\n",
            "Epoch 2/10\n",
            "938/938 [==============================] - 23s 25ms/step - loss: 0.6231 - accuracy: 0.7839 - val_loss: 0.5271 - val_accuracy: 0.8131\n",
            "Epoch 3/10\n",
            "938/938 [==============================] - 23s 25ms/step - loss: 0.5456 - accuracy: 0.8071 - val_loss: 0.4838 - val_accuracy: 0.8255\n",
            "Epoch 4/10\n",
            "938/938 [==============================] - 23s 25ms/step - loss: 0.5066 - accuracy: 0.8210 - val_loss: 0.4583 - val_accuracy: 0.8359\n",
            "Epoch 5/10\n",
            "938/938 [==============================] - 21s 23ms/step - loss: 0.4750 - accuracy: 0.8314 - val_loss: 0.4399 - val_accuracy: 0.8418\n",
            "Epoch 6/10\n",
            "938/938 [==============================] - 23s 25ms/step - loss: 0.4545 - accuracy: 0.8369 - val_loss: 0.4260 - val_accuracy: 0.8466\n",
            "Epoch 7/10\n",
            "938/938 [==============================] - 21s 22ms/step - loss: 0.4379 - accuracy: 0.8437 - val_loss: 0.4151 - val_accuracy: 0.8500\n",
            "Epoch 8/10\n",
            "938/938 [==============================] - 23s 25ms/step - loss: 0.4245 - accuracy: 0.8484 - val_loss: 0.4068 - val_accuracy: 0.8532\n",
            "Epoch 9/10\n",
            "938/938 [==============================] - 23s 25ms/step - loss: 0.4122 - accuracy: 0.8531 - val_loss: 0.4003 - val_accuracy: 0.8553\n",
            "Epoch 10/10\n",
            "938/938 [==============================] - 23s 25ms/step - loss: 0.4037 - accuracy: 0.8557 - val_loss: 0.3925 - val_accuracy: 0.8586\n"
          ]
        },
        {
          "output_type": "execute_result",
          "data": {
            "text/plain": [
              "<keras.src.callbacks.History at 0x7a7f26910250>"
            ]
          },
          "metadata": {},
          "execution_count": 9
        }
      ]
    },
    {
      "cell_type": "code",
      "source": [
        "test_loss, test_acc = model.evaluate(test_images, test_labels, verbose=2)\n",
        "print('\\nTest accuracy:', test_acc)"
      ],
      "metadata": {
        "colab": {
          "base_uri": "https://localhost:8080/"
        },
        "id": "p9JQLl98gfPw",
        "outputId": "859168ce-b78e-4265-beef-c3d186b84574"
      },
      "execution_count": 10,
      "outputs": [
        {
          "output_type": "stream",
          "name": "stdout",
          "text": [
            "313/313 - 4s - loss: 0.3925 - accuracy: 0.8586 - 4s/epoch - 12ms/step\n",
            "\n",
            "Test accuracy: 0.8586000204086304\n"
          ]
        }
      ]
    },
    {
      "cell_type": "code",
      "source": [
        "base_model.trainable = True\n",
        "for layer in base_model.layers[:-4]:\n",
        "    layer.trainable = False"
      ],
      "metadata": {
        "id": "3BCiRxuIBysg"
      },
      "execution_count": 11,
      "outputs": []
    },
    {
      "cell_type": "code",
      "source": [
        "model.compile(optimizer=optimizers.Adam(learning_rate=1e-5),\n",
        "              loss='sparse_categorical_crossentropy',\n",
        "              metrics=['accuracy'])"
      ],
      "metadata": {
        "id": "l0axd42nB228"
      },
      "execution_count": 12,
      "outputs": []
    },
    {
      "cell_type": "code",
      "source": [
        "model.fit(train_images, train_labels, epochs=10,\n",
        "          validation_data=(test_images, test_labels),\n",
        "          batch_size=64)"
      ],
      "metadata": {
        "colab": {
          "base_uri": "https://localhost:8080/"
        },
        "id": "O7z0D4eKB7lm",
        "outputId": "35f6e2e8-4b05-4c3d-8c1a-cdb6556a29d9"
      },
      "execution_count": 13,
      "outputs": [
        {
          "output_type": "stream",
          "name": "stdout",
          "text": [
            "Epoch 1/10\n",
            "938/938 [==============================] - 32s 31ms/step - loss: 0.3382 - accuracy: 0.8776 - val_loss: 0.3065 - val_accuracy: 0.8887\n",
            "Epoch 2/10\n",
            "938/938 [==============================] - 29s 30ms/step - loss: 0.2663 - accuracy: 0.9046 - val_loss: 0.2797 - val_accuracy: 0.8977\n",
            "Epoch 3/10\n",
            "938/938 [==============================] - 31s 33ms/step - loss: 0.2333 - accuracy: 0.9153 - val_loss: 0.2726 - val_accuracy: 0.9011\n",
            "Epoch 4/10\n",
            "938/938 [==============================] - 31s 33ms/step - loss: 0.2069 - accuracy: 0.9252 - val_loss: 0.2600 - val_accuracy: 0.9079\n",
            "Epoch 5/10\n",
            "938/938 [==============================] - 31s 33ms/step - loss: 0.1865 - accuracy: 0.9328 - val_loss: 0.2504 - val_accuracy: 0.9104\n",
            "Epoch 6/10\n",
            "938/938 [==============================] - 31s 33ms/step - loss: 0.1685 - accuracy: 0.9389 - val_loss: 0.2472 - val_accuracy: 0.9126\n",
            "Epoch 7/10\n",
            "938/938 [==============================] - 31s 33ms/step - loss: 0.1548 - accuracy: 0.9445 - val_loss: 0.2442 - val_accuracy: 0.9117\n",
            "Epoch 8/10\n",
            "938/938 [==============================] - 30s 32ms/step - loss: 0.1403 - accuracy: 0.9499 - val_loss: 0.2391 - val_accuracy: 0.9172\n",
            "Epoch 9/10\n",
            "938/938 [==============================] - 31s 33ms/step - loss: 0.1297 - accuracy: 0.9538 - val_loss: 0.2564 - val_accuracy: 0.9131\n",
            "Epoch 10/10\n",
            "938/938 [==============================] - 29s 31ms/step - loss: 0.1170 - accuracy: 0.9585 - val_loss: 0.2389 - val_accuracy: 0.9179\n"
          ]
        },
        {
          "output_type": "execute_result",
          "data": {
            "text/plain": [
              "<keras.src.callbacks.History at 0x7a7eb1e285b0>"
            ]
          },
          "metadata": {},
          "execution_count": 13
        }
      ]
    },
    {
      "cell_type": "code",
      "source": [
        "test_loss, test_acc = model.evaluate(test_images, test_labels, verbose=2)\n",
        "print('\\nTest accuracy:', test_acc)"
      ],
      "metadata": {
        "colab": {
          "base_uri": "https://localhost:8080/"
        },
        "id": "0d9duG1mEFf0",
        "outputId": "7cc01e5f-1b9d-44bb-f1d8-a8e9e5ecc9f3"
      },
      "execution_count": 14,
      "outputs": [
        {
          "output_type": "stream",
          "name": "stdout",
          "text": [
            "313/313 - 4s - loss: 0.2389 - accuracy: 0.9179 - 4s/epoch - 11ms/step\n",
            "\n",
            "Test accuracy: 0.917900025844574\n"
          ]
        }
      ]
    }
  ]
}